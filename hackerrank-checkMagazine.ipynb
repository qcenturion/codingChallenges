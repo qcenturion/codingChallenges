{
 "cells": [
  {
   "cell_type": "code",
   "execution_count": null,
   "metadata": {},
   "outputs": [],
   "source": [
    "def checkMagazine(magazine,note):\n",
    "    mag_dict = dict()\n",
    "    for word in magazine:\n",
    "        if word not in mag_dict:\n",
    "            mag_dict[word] = 1\n",
    "        else:\n",
    "            mag_dict[word] += 1\n",
    "    for word in note:\n",
    "        if word in mag_dict:\n",
    "            if mag_dict[word] > 0:\n",
    "                mag_dict[word] -= 1\n",
    "            else:\n",
    "                print(\"No\")\n",
    "                return\n",
    "        else:\n",
    "            print(\"No\")\n",
    "            return\n",
    "    print(\"Yes\")\n",
    "    return"
   ]
  }
 ],
 "metadata": {
  "kernelspec": {
   "display_name": "Python 3",
   "language": "python",
   "name": "python3"
  },
  "language_info": {
   "codemirror_mode": {
    "name": "ipython",
    "version": 3
   },
   "file_extension": ".py",
   "mimetype": "text/x-python",
   "name": "python",
   "nbconvert_exporter": "python",
   "pygments_lexer": "ipython3",
   "version": "3.7.4"
  }
 },
 "nbformat": 4,
 "nbformat_minor": 4
}
