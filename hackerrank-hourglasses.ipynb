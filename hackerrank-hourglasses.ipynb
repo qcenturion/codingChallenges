{
 "cells": [
  {
   "cell_type": "code",
   "execution_count": 73,
   "metadata": {},
   "outputs": [],
   "source": [
    "def hourglassSum(arr):\n",
    "    max = -9*7\n",
    "    for i in range(4):\n",
    "        hourglass = sum(arr[i][0:3] + [arr[i+1][1]] + arr[i+2][0:3])\n",
    "        if hourglass > max:\n",
    "            max = hourglass\n",
    "        for j in range(3):\n",
    "            hourglass += (arr[i][j+3] + arr[i+1][j+2] + arr[i+2][j+3]) - (arr[i][j] + arr[i+1][j+1] + arr[i+2][j])\n",
    "            if hourglass > max:\n",
    "                max = hourglass\n",
    "    return(max)"
   ]
  }
 ],
 "metadata": {
  "kernelspec": {
   "display_name": "Python 3",
   "language": "python",
   "name": "python3"
  },
  "language_info": {
   "codemirror_mode": {
    "name": "ipython",
    "version": 3
   },
   "file_extension": ".py",
   "mimetype": "text/x-python",
   "name": "python",
   "nbconvert_exporter": "python",
   "pygments_lexer": "ipython3",
   "version": "3.6.10"
  }
 },
 "nbformat": 4,
 "nbformat_minor": 4
}
