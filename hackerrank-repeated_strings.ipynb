{
 "cells": [
  {
   "cell_type": "code",
   "execution_count": 43,
   "metadata": {},
   "outputs": [],
   "source": [
    "def repeatedString(s,n):\n",
    "    l = len(s)\n",
    "    count = 0\n",
    "    count_sub = 0\n",
    "    if n <= l:\n",
    "        for char in s[0:n]:\n",
    "            count += 1 if char == \"a\" else 0\n",
    "    else:\n",
    "        loop_count = 0\n",
    "        for char in s:\n",
    "            if loop_count == n%l and l > 1:\n",
    "                count_sub = count\n",
    "            count += 1 if char == \"a\" else 0\n",
    "            loop_count += 1\n",
    "        count = count*(n//l) + count_sub\n",
    "    return(count)\n",
    "            "
   ]
  }
 ],
 "metadata": {
  "kernelspec": {
   "display_name": "Python 3",
   "language": "python",
   "name": "python3"
  },
  "language_info": {
   "codemirror_mode": {
    "name": "ipython",
    "version": 3
   },
   "file_extension": ".py",
   "mimetype": "text/x-python",
   "name": "python",
   "nbconvert_exporter": "python",
   "pygments_lexer": "ipython3",
   "version": "3.7.4"
  }
 },
 "nbformat": 4,
 "nbformat_minor": 4
}
