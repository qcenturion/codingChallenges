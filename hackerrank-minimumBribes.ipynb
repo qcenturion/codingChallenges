{
 "cells": [
  {
   "cell_type": "code",
   "execution_count": 12,
   "metadata": {},
   "outputs": [],
   "source": [
    "def minimumBribes(q):\n",
    "    total_displacement = 0\n",
    "    for idx, p in enumerate(q):\n",
    "        if p-3 > idx:\n",
    "            print(\"Too chaotic\")\n",
    "            return\n",
    "        else:\n",
    "            total_displacement += abs((idx+1)-p)\n",
    "    print(int(total_displacement/2))\n",
    "    return\n",
    "            \n",
    "            "
   ]
  }
 ],
 "metadata": {
  "kernelspec": {
   "display_name": "Python 3",
   "language": "python",
   "name": "python3"
  },
  "language_info": {
   "codemirror_mode": {
    "name": "ipython",
    "version": 3
   },
   "file_extension": ".py",
   "mimetype": "text/x-python",
   "name": "python",
   "nbconvert_exporter": "python",
   "pygments_lexer": "ipython3",
   "version": "3.7.4"
  }
 },
 "nbformat": 4,
 "nbformat_minor": 4
}
