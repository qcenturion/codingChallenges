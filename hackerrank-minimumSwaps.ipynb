{
 "cells": [
  {
   "cell_type": "code",
   "execution_count": 7,
   "metadata": {},
   "outputs": [],
   "source": [
    "def minimumSwaps(arr):\n",
    "    arr = [x - 1 for x in arr]\n",
    "    swaps = 0\n",
    "    temp = 0\n",
    "    i = 0\n",
    "    for num in arr:\n",
    "        if num != i:\n",
    "            while arr[i] != i:\n",
    "                temp = arr[arr[i]]\n",
    "                arr[arr[i]] = arr[i]\n",
    "                arr[i] = temp\n",
    "                swaps += 1\n",
    "            i += 1\n",
    "        else:\n",
    "            i += 1\n",
    "    return(swaps)"
   ]
  }
 ],
 "metadata": {
  "kernelspec": {
   "display_name": "Python 3",
   "language": "python",
   "name": "python3"
  },
  "language_info": {
   "codemirror_mode": {
    "name": "ipython",
    "version": 3
   },
   "file_extension": ".py",
   "mimetype": "text/x-python",
   "name": "python",
   "nbconvert_exporter": "python",
   "pygments_lexer": "ipython3",
   "version": "3.6.10"
  }
 },
 "nbformat": 4,
 "nbformat_minor": 4
}
