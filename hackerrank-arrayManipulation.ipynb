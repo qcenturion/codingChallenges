{
 "cells": [
  {
   "cell_type": "code",
   "execution_count": null,
   "metadata": {},
   "outputs": [],
   "source": [
    "def arrayManipulation(n,queries):\n",
    "    arr = [0]*n\n",
    "    for q in queries:\n",
    "        arr[q[0]-1] += q[2]\n",
    "        if q[1] != n:\n",
    "            arr[q[1]] -= q[2]\n",
    "    total = 0\n",
    "    max_int = arr[0]\n",
    "    for value in arr:\n",
    "        total += value\n",
    "        if total > max_int: max_int = total\n",
    "    return max_int"
   ]
  }
 ],
 "metadata": {
  "kernelspec": {
   "display_name": "Python 3",
   "language": "python",
   "name": "python3"
  },
  "language_info": {
   "codemirror_mode": {
    "name": "ipython",
    "version": 3
   },
   "file_extension": ".py",
   "mimetype": "text/x-python",
   "name": "python",
   "nbconvert_exporter": "python",
   "pygments_lexer": "ipython3",
   "version": "3.6.10"
  }
 },
 "nbformat": 4,
 "nbformat_minor": 4
}
